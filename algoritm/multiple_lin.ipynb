{
 "cells": [
  {
   "cell_type": "markdown",
   "metadata": {},
   "source": [
    "## 다중 선형 회귀\n",
    "* 비선형의 형태에서 다중선형회귀 2,3차 는 선형회귀\n",
    "* 싸인이나 코싸인 하는걸 비선형 회귀로 함\n",
    "* polynomial features를 다운을 따로 받아야 함 (sklearn에는 없음,제곱,세제곱해서 늘려준다음 linear regrassion해줌)\n",
    "* 경계가 선형으로 표현할 수 없을 때 polynomial features를 "
   ]
  },
  {
   "cell_type": "code",
   "execution_count": 1,
   "metadata": {},
   "outputs": [],
   "source": [
    "from sklearn.preprocessing import PolynomialFeatures\n",
    "import numpy as np\n"
   ]
  },
  {
   "cell_type": "code",
   "execution_count": 2,
   "metadata": {},
   "outputs": [
    {
     "name": "stdout",
     "output_type": "stream",
     "text": [
      "일차 단항식 계수 feature:\n",
      " [[0 1]\n",
      " [2 3]]\n"
     ]
    }
   ],
   "source": [
    "# 다항식으로 변환한 단항식 생성, [[0,1],[2,3]]의 2x2 행렬 생성\n",
    "X= np.arange(4).reshape(2,2)\n",
    "print('일차 단항식 계수 feature:\\n',X)"
   ]
  },
  {
   "cell_type": "code",
   "execution_count": 4,
   "metadata": {},
   "outputs": [
    {
     "name": "stdout",
     "output_type": "stream",
     "text": [
      "변환된 2차 다항식 계수 feature: \n",
      " [[1. 0. 1. 0. 0. 1.]\n",
      " [1. 2. 3. 4. 6. 9.]]\n"
     ]
    }
   ],
   "source": [
    "#degree=2인 2차 다항식으로 변환하기 위해 PolynomialFeatures를 이용하여 변환\n",
    "\n",
    "poly = PolynomialFeatures(degree=2)\n",
    "poly.fit(X)\n",
    "poly_ftr= poly.transform(X)\n",
    "print('변환된 2차 다항식 계수 feature: \\n', poly_ftr)"
   ]
  },
  {
   "cell_type": "code",
   "execution_count": 5,
   "metadata": {},
   "outputs": [
    {
     "name": "stdout",
     "output_type": "stream",
     "text": [
      "일차 단항식 계수 feature: \n",
      " [[0 1]\n",
      " [2 3]]\n",
      "삼차 다항식 결정값: \n",
      " [[ 1  5]\n",
      " [17 43]]\n"
     ]
    }
   ],
   "source": [
    "def polynomial_func(X):\n",
    "    y= 1+ 2*X + X**2 + X**3\n",
    "    return y\n",
    "\n",
    "X= np.arange(4).reshape(2,2)\n",
    "print('일차 단항식 계수 feature: \\n',X)\n",
    "\n",
    "y= polynomial_func(X)\n",
    "print('삼차 다항식 결정값: \\n',y)"
   ]
  },
  {
   "cell_type": "code",
   "execution_count": 8,
   "metadata": {},
   "outputs": [
    {
     "name": "stdout",
     "output_type": "stream",
     "text": [
      "3차 다항식 계수 feature: \n",
      " [[ 1.  0.  1.  0.  0.  1.  0.  0.  0.  1.]\n",
      " [ 1.  2.  3.  4.  6.  9.  8. 12. 18. 27.]]\n",
      "Polynomial 회귀 계수 \n",
      " [[0.   0.02 0.02 0.05 0.07 0.1  0.1  0.14 0.22 0.31]\n",
      " [0.   0.06 0.06 0.11 0.17 0.23 0.23 0.34 0.51 0.74]]\n",
      "Polynomial 회귀 Shape: (2, 10)\n"
     ]
    }
   ],
   "source": [
    "from sklearn.linear_model import LinearRegression\n",
    "poly_ftr =PolynomialFeatures(degree=3).fit_transform(X)\n",
    "print('3차 다항식 계수 feature: \\n',poly_ftr)\n",
    "\n",
    "# Linear Regression에 3차 다항식 계수 feature와 3차 다항식 결정값으로 학습 후 회귀 계수 확인\n",
    "model =LinearRegression()\n",
    "model.fit(poly_ftr,y)\n",
    "print('Polynomial 회귀 계수 \\n', np.round(model.coef_,2))\n",
    "print('Polynomial 회귀 Shape:',model.coef_.shape)"
   ]
  },
  {
   "cell_type": "markdown",
   "metadata": {},
   "source": [
    "### bias와 진동폭은 반대 방향으로 움직임(서로 상충관계, 트레이드 오프)\n",
    " * 진동폭으 늘어나지 않았지만 bias가 늘어나는 건 언더피팅\n",
    " * 진동폭은 늘어나면서 bias가 늘어나는 건 오버피팅\n",
    " * 라쏘는 절대값으로 하고 그러면서 마름모꼴로 제한을 시켜줌 그러다 보니깐 피쳐값 하나가 사라지게 됨(상관관계를 아예 줄여버림)\n",
    " * 릿지는 제곱시켜주고 원으로 제한을 시켜줌 그러면서 피쳐값을 제거하는게 아니라 줄여주는 것임.\n",
    " * 알파값이 제로가 되면 그냥 일반 선형회귀 - 패널티가 많이 부여되면 선택할 수 있는 폭이 줄고, 패널티가 적게 부옂되면 선택할 수 있는 폭이 늘어남(라쏘와 릿지에 파라미터는 알파값)\n",
    " "
   ]
  },
  {
   "cell_type": "code",
   "execution_count": null,
   "metadata": {},
   "outputs": [],
   "source": []
  }
 ],
 "metadata": {
  "interpreter": {
   "hash": "f4ba335b1acc55db6b97d63129af6fbe6175843e0be64b2659003ca573354abf"
  },
  "kernelspec": {
   "display_name": "Python 3.10.1 64-bit",
   "language": "python",
   "name": "python3"
  },
  "language_info": {
   "codemirror_mode": {
    "name": "ipython",
    "version": 3
   },
   "file_extension": ".py",
   "mimetype": "text/x-python",
   "name": "python",
   "nbconvert_exporter": "python",
   "pygments_lexer": "ipython3",
   "version": "3.10.1"
  },
  "orig_nbformat": 4
 },
 "nbformat": 4,
 "nbformat_minor": 2
}
