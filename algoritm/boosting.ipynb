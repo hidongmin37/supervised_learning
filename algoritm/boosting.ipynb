{
 "cells": [
  {
   "cell_type": "markdown",
   "metadata": {},
   "source": [
    "#### 부스팅 기법\n",
    "##### ada부스팅은 과적합을 줄일 수 있음(에러값들 모아두는 함수구하는 함수 손실함수라함)\n",
    "##### \n",
    "\n",
    "* 그래디언(기울기)부스팅은 에러값들 다시 조정하면서 기울기값을 계속 줄여줌\n",
    "* 시간이 많이 걸릴 수 밖에 없음 weaklearner 지정해주고 가중치 둬주고 계속 해서 기준넘어갈때까지 함\n",
    "* class sklearn.ensemble.GradientBoostingClassifier(*, loss='deviance', learning_rate=0.1, n_estimators=100, subsample=1.0, criterion='friedman_mse', min_samples_split=2, min_samples_leaf=1, min_weight_fraction_leaf=0.0, max_depth=3, min_impurity_decrease=0.0, init=None, random_state=None, max_features=None, verbose=0, max_leaf_nodes=None, warm_start=False, validation_fraction=0.1, n_iter_no_change=None, tol=0.0001, ccp_alpha=0.0)\n",
    "* subsample은 0과 1사이의 값으로 해야 작으므로 그사이값으로 지정해줘야함\n",
    "\n",
    "* XG부스팅은 시간도 빨라지고, 예측도 좋아짐 그래디언 부스팅과 차이점은 크게 크게 나누고, 정규화까지 시켜주는 차이점이 있음\n"
   ]
  },
  {
   "cell_type": "code",
   "execution_count": 2,
   "metadata": {},
   "outputs": [],
   "source": [
    "from sklearn.ensemble import GradientBoostingClassifier\n",
    "import time\n",
    "import warnings\n",
    "import get_human_dataset_copy as gh\n",
    "warnings.filterwarnings('ignore')\n",
    "from sklearn.metrics import accuracy_score\n",
    "\n"
   ]
  },
  {
   "cell_type": "code",
   "execution_count": 3,
   "metadata": {},
   "outputs": [],
   "source": [
    "X_train,X_test,y_train,y_test =gh.get_human_dataset()"
   ]
  },
  {
   "cell_type": "code",
   "execution_count": 4,
   "metadata": {},
   "outputs": [
    {
     "name": "stdout",
     "output_type": "stream",
     "text": [
      "GBM 정확도 : 0.9389\n",
      "GBM 수행시간:598.5초\n"
     ]
    }
   ],
   "source": [
    "start_time=time.time()\n",
    "\n",
    "gb_clf = GradientBoostingClassifier(random_state=0)\n",
    "gb_clf.fit(X_train,y_train)\n",
    "gb_pred =gb_clf.predict(X_test)\n",
    "gb_accuracy = accuracy_score(y_test,gb_pred)\n",
    "\n",
    "print('GBM 정확도 : {0:.4f}'.format(gb_accuracy))\n",
    "print('GBM 수행시간:{0:.1f}초'.format(time.time()-start_time))"
   ]
  },
  {
   "cell_type": "code",
   "execution_count": 5,
   "metadata": {},
   "outputs": [
    {
     "name": "stdout",
     "output_type": "stream",
     "text": [
      "Fitting 2 folds for each of 4 candidates, totalling 8 fits\n"
     ]
    }
   ],
   "source": [
    "from sklearn.model_selection import GridSearchCV\n",
    "\n",
    "params={\n",
    "    'n_estimators':[100,500],\n",
    "    'learning_rate':[0.05,0.1]\n",
    "}\n",
    "\n",
    "grid_cv=GridSearchCV(gb_clf,param_grid=params , cv=2, verbose=1)\n",
    "grid_cv.fit(X_train, y_train)\n",
    "\n",
    "print('최적 하이퍼 파리미터: /n',grid_cv.best_params_)\n",
    "print('최고 예측 정확도: {0:.4f}'.format(grid_cv.best_score_))"
   ]
  },
  {
   "cell_type": "code",
   "execution_count": null,
   "metadata": {},
   "outputs": [],
   "source": [
    "gb_pred=grid_cv.best_estimator_.predict(X_test)\n",
    "gb_accuracy=accuracy_score(y_test,gb_pred)\n",
    "print('GBM 정확도 : {0:.4f}'.format(gb_accuracy))"
   ]
  }
 ],
 "metadata": {
  "interpreter": {
   "hash": "f4ba335b1acc55db6b97d63129af6fbe6175843e0be64b2659003ca573354abf"
  },
  "kernelspec": {
   "display_name": "Python 3.10.1 64-bit",
   "language": "python",
   "name": "python3"
  },
  "language_info": {
   "codemirror_mode": {
    "name": "ipython",
    "version": 3
   },
   "file_extension": ".py",
   "mimetype": "text/x-python",
   "name": "python",
   "nbconvert_exporter": "python",
   "pygments_lexer": "ipython3",
   "version": "3.10.1"
  },
  "orig_nbformat": 4
 },
 "nbformat": 4,
 "nbformat_minor": 2
}
