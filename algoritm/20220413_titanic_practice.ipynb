{
 "cells": [
  {
   "cell_type": "code",
   "execution_count": 10,
   "metadata": {},
   "outputs": [],
   "source": [
    "import numpy as np\n",
    "import pandas as pd\n",
    "import matplotlib.pyplot as plt\n",
    "import seaborn as sns\n",
    "from modules import DtPre\n",
    "\n",
    "from sklearn.model_selection import train_test_split\n",
    "from sklearn.tree import DecisionTreeClassifier\n",
    "from sklearn.linear_model import LogisticRegression\n",
    "from sklearn.metrics import accuracy_score"
   ]
  },
  {
   "cell_type": "code",
   "execution_count": 11,
   "metadata": {},
   "outputs": [],
   "source": [
    "titanic_df = pd.read_csv(\"./csv_data/titanic_train.csv\")\n",
    "y_titanic_df = titanic_df[\"Survived\"]   # 레이블 데이터 셋 추출\n",
    "X_titanic_df = titanic_df.drop(\"Survived\", axis=1)  # 피쳐 데이터 셋에서 레이블셋은 삭제\n",
    "\n",
    "X_titanic_df = DtPre.transform_features(X_titanic_df) # 만들어둔 전처리 함수 적용\n",
    "\n",
    "titanic_test_df = pd.read_csv(\"./csv_data/titanic_test.csv\")\n",
    "y_titanic_test_df = titanic_test_df[\"Survived\"]   # 레이블 데이터 셋 추출\n",
    "X_titanic_test_df = titanic_test_df.drop(\"Survived\", axis=1)  # 피쳐 데이터 셋에서 레이블셋은 삭제\n",
    "\n",
    "X_titanic_test_df = DtPre.transform_features(X_titanic_test_df) # 만들어둔 전처리 함수 적용"
   ]
  },
  {
   "cell_type": "code",
   "execution_count": 12,
   "metadata": {},
   "outputs": [
    {
     "data": {
      "text/plain": [
       "DecisionTreeClassifier(random_state=121)"
      ]
     },
     "execution_count": 12,
     "metadata": {},
     "output_type": "execute_result"
    }
   ],
   "source": [
    "titanic_clf = DecisionTreeClassifier(random_state=121)\n",
    "\n",
    "# X_train, X_test, y_train, y_test = train_test_split(X_titanic_df, y_titanic_df,\n",
    "#                                                     test_size=0.2, random_state=121)\n",
    "\n",
    "titanic_clf.fit(X_titanic_df, y_titanic_df)"
   ]
  },
  {
   "cell_type": "code",
   "execution_count": 13,
   "metadata": {},
   "outputs": [
    {
     "name": "stdout",
     "output_type": "stream",
     "text": [
      "Feature Importance : [0.082 0.306 0.271 0.041 0.019 0.208 0.051 0.021]\n",
      "Pclass : 0.082\n",
      "Sex : 0.306\n",
      "Age : 0.271\n",
      "SibSp : 0.041\n",
      "Parch : 0.019\n",
      "Fare : 0.208\n",
      "Cabin : 0.051\n",
      "Embarked : 0.021\n"
     ]
    },
    {
     "data": {
      "text/plain": [
       "<AxesSubplot:>"
      ]
     },
     "execution_count": 13,
     "metadata": {},
     "output_type": "execute_result"
    },
    {
     "data": {
      "image/png": "[encoded data removed]",
      "text/plain": [
       "<Figure size 432x288 with 1 Axes>"
      ]
     },
     "metadata": {
      "needs_background": "light"
     },
     "output_type": "display_data"
    }
   ],
   "source": [
    "# feature importance 추출\n",
    "print(f\"Feature Importance : {np.round(titanic_clf.feature_importances_, 3)}\")\n",
    "\n",
    "# feature 별 importance 매핑\n",
    "features = []\n",
    "for name, value in zip(X_titanic_df.columns, titanic_clf.feature_importances_) :\n",
    "    print(f\"{name} : {value:.3f}\")\n",
    "    features.append({name : np.round(value, 3)})\n",
    "\n",
    "# feature importance를 column별로 시각화 하기\n",
    "sns.barplot(x=titanic_clf.feature_importances_, y=X_titanic_df.columns)"
   ]
  },
  {
   "cell_type": "code",
   "execution_count": 14,
   "metadata": {},
   "outputs": [
    {
     "name": "stdout",
     "output_type": "stream",
     "text": [
      "0.792\n"
     ]
    },
    {
     "name": "stderr",
     "output_type": "stream",
     "text": [
      "C:\\Users\\user\\AppData\\Local\\Programs\\Python\\Python310\\lib\\site-packages\\sklearn\\linear_model\\_logistic.py:814: ConvergenceWarning: lbfgs failed to converge (status=1):\n",
      "STOP: TOTAL NO. of ITERATIONS REACHED LIMIT.\n",
      "\n",
      "Increase the number of iterations (max_iter) or scale the data as shown in:\n",
      "    https://scikit-learn.org/stable/modules/preprocessing.html\n",
      "Please also refer to the documentation for alternative solver options:\n",
      "    https://scikit-learn.org/stable/modules/linear_model.html#logistic-regression\n",
      "  n_iter_i = _check_optimize_result(\n"
     ]
    }
   ],
   "source": [
    "titanic_lr = LogisticRegression()\n",
    "\n",
    "titanic_lr.fit(X_titanic_df, y_titanic_df)\n",
    "\n",
    "pred_all = titanic_lr.predict(X_titanic_df)\n",
    "\n",
    "print(np.round(accuracy_score(y_titanic_df, pred_all),3))"
   ]
  },
  {
   "cell_type": "code",
   "execution_count": 15,
   "metadata": {},
   "outputs": [],
   "source": [
    "X_train_feat = X_titanic_df[[\"Pclass\", \"Sex\", \"Age\", \"Fare\", \"Cabin\"]]\n",
    "X_test_feat = X_titanic_test_df[[\"Pclass\", \"Sex\", \"Age\", \"Fare\", \"Cabin\"]]"
   ]
  },
  {
   "cell_type": "code",
   "execution_count": 18,
   "metadata": {},
   "outputs": [
    {
     "name": "stdout",
     "output_type": "stream",
     "text": [
      "0.95\n"
     ]
    }
   ],
   "source": [
    "titanic_lr_feat = LogisticRegression()\n",
    "\n",
    "titanic_lr_feat.fit(X_train_feat, y_titanic_df)\n",
    "\n",
    "pred_feat = titanic_lr_feat.predict(X_test_feat)\n",
    "\n",
    "print(np.round(accuracy_score(y_titanic_test_df, pred_feat),3))"
   ]
  }
 ],
 "metadata": {
  "interpreter": {
   "hash": "5d240ba0dc525c389faa33f5dcce5b4f32b6d6aa6d70d6d2dd929bd2b09ab69f"
  },
  "kernelspec": {
   "display_name": "Python 3.10.2 64-bit",
   "language": "python",
   "name": "python3"
  },
  "language_info": {
   "codemirror_mode": {
    "name": "ipython",
    "version": 3
   },
   "file_extension": ".py",
   "mimetype": "text/x-python",
   "name": "python",
   "nbconvert_exporter": "python",
   "pygments_lexer": "ipython3",
   "version": "3.10.2"
  },
  "orig_nbformat": 4
 },
 "nbformat": 4,
 "nbformat_minor": 2
}
