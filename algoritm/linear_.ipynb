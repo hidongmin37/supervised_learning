{
 "cells": [
  {
   "cell_type": "markdown",
   "metadata": {},
   "source": [
    "# LinearRegression\n",
    "### sklearn.linear_model.LinearRegression\n",
    "# 선형회귀\n",
    "# 경사하강"
   ]
  },
  {
   "cell_type": "markdown",
   "metadata": {},
   "source": [
    "\n",
    "* MSE,MAE와 같은 것들을 손실 함수라 함\n",
    "* 피처값이 하나더라도 w값을 하나만 갖는게 아니라 여러개 가질 수 있음\n",
    "* 일반적인 선형회귀방법은 w,b값 패널티 안주고 조절하는데, 릿지와 라쏘는 RSS에 패널티 주고 조절 쓸모없는 피처값 제거하면서 과적합방지\n",
    "* 라쏘는 필요없는 것을 제거시켜주므로 남아있는 피쳐들로 다른 알고리즘에 적용시킬 수 있음\n",
    "* L1규제 릿지 제곱값, L2규제는 라쏘 절대값\n",
    "* 그래디언트 디센트 w0,w1을 조절해서 편미분계수가 0이 되는 것을 찾는 것임\n",
    "* 경사하강법은 step이 보폭 learnig rate를 결정해주는게 step()임 -optimizer"
   ]
  },
  {
   "cell_type": "markdown",
   "metadata": {},
   "source": []
  },
  {
   "cell_type": "code",
   "execution_count": 16,
   "metadata": {},
   "outputs": [
    {
     "data": {
      "text/plain": [
       "<matplotlib.collections.PathCollection at 0x2bedd10f370>"
      ]
     },
     "execution_count": 16,
     "metadata": {},
     "output_type": "execute_result"
    },
    {
     "data": {
      "image/png": "[encoded data removed]",
      "text/plain": [
       "<Figure size 432x288 with 1 Axes>"
      ]
     },
     "metadata": {
      "needs_background": "light"
     },
     "output_type": "display_data"
    }
   ],
   "source": [
    "import numpy as np\n",
    "import matplotlib.pyplot as plt\n",
    "\n",
    "np.random.seed(0)\n",
    "# y = 4X + 6 식을 근사 (w1 = 4, w0 = 6). random 값은 Noise를 위해 만듦\n",
    "X = 2 * np.random.rand(100,1)\n",
    "y = 6 + 4*X + np.random.randn(100,1)\n",
    "\n",
    "# X, y 데이터 셋 scatter plot 으로 시각화\n",
    "plt.scatter(X,y)"
   ]
  },
  {
   "cell_type": "code",
   "execution_count": 4,
   "metadata": {},
   "outputs": [],
   "source": [
    "# w1과 w0를 업데이트할 w1_update, w0_update를 반환.\n",
    "def get_weight_updates(w1, w0, X, y, learning_rate=0.01) :\n",
    "    N = len(y)\n",
    "    # 먼저 w1_update, w0_update를 각각 w1, w0의 shape와 동일한 크기를 가진 0값으로 초기화\n",
    "    w1_update = np.zeros_like(w1)\n",
    "    w0_update = np.zeros_like(w0)\n",
    "    # 예측 배열 계싼하고 예측과 실제 값의 차이 계산\n",
    "    y_pred = np.dot(X, w1.T) + w0\n",
    "    diff = y - y_pred\n",
    "\n",
    "    # w0_update를 내적으로 구하기 위해 모두 1값을 가진 행렬 생성\n",
    "    w0_factors = np.ones((N,1))\n",
    "\n",
    "    # w1과 w0를 업데이트 할 w1_update와 w0_update 계산\n",
    "    w1_update = -(2/N)*learning_rate*(np.dot(X.T, diff))\n",
    "    w0_update = -(2/N)*learning_rate*(np.dot(w0_factors.T, diff))\n",
    "\n",
    "    return w1_update, w0_update\n",
    "\n",
    "# 입력 인자 iters로 주어진 횟수만큼 반복적으로 w1과 w0를 업데이트 적용함\n",
    "def gradient_descent_steps(X, y, iters=10000) :\n",
    "    # w0와 w1을 모두 0으로 초기화.\n",
    "    w0 = np.zeros((1,1))\n",
    "    w1 = np.zeros((1,1))\n",
    "\n",
    "    # 인자로 주어진 iters 만큼 반복적으로 get_weight_updates() 호출하여\n",
    "    # w1, w0 업데이트 수행\n",
    "    for ind in range(iters) :\n",
    "        w1_update, w0_update = get_weight_updates(w1, w0, X, y, learning_rate=0.01)\n",
    "        w1 = w1 - w1_update\n",
    "        w0 = w0 - w0_update\n",
    "\n",
    "    return w1, w0"
   ]
  },
  {
   "cell_type": "code",
   "execution_count": 17,
   "metadata": {},
   "outputs": [
    {
     "name": "stdout",
     "output_type": "stream",
     "text": [
      "w1:4.022 w0:6.162\n",
      "Gradient Descent Total Cost:0.9935\n",
      "MAE:0.9935\n"
     ]
    },
    {
     "data": {
      "text/plain": [
       "[<matplotlib.lines.Line2D at 0x2bedd1a88b0>]"
      ]
     },
     "execution_count": 17,
     "metadata": {},
     "output_type": "execute_result"
    },
    {
     "data": {
      "image/png": "[encoded data removed]",
      "text/plain": [
       "<Figure size 432x288 with 1 Axes>"
      ]
     },
     "metadata": {
      "needs_background": "light"
     },
     "output_type": "display_data"
    }
   ],
   "source": [
    "def get_cost(y, y_pred) :\n",
    "    N = len(y)\n",
    "    cost = np.sum(np.square(y - y_pred))/N \n",
    "\n",
    "# 오차값\n",
    "    return cost\n",
    "w1, w0 = gradient_descent_steps(X, y, iters=1000)\n",
    "print(f\"w1:{w1[0,0]:.3f} w0:{w0[0,0]:.3f}\")\n",
    "y_pred = w1[0,0]*X + w0\n",
    "print(f\"Gradient Descent Total Cost:{get_cost(y, y_pred):.4f}\")\n",
    "print(f\"MAE:{get_cost(y, y_pred):.4f}\")\n",
    "\n",
    "plt.scatter(X, y)\n",
    "plt.plot(X, y_pred, c=\"r\")"
   ]
  },
  {
   "cell_type": "markdown",
   "metadata": {},
   "source": [
    "* 에포크는 훈련횟수\n",
    "* "
   ]
  },
  {
   "cell_type": "code",
   "execution_count": 10,
   "metadata": {},
   "outputs": [],
   "source": [
    "# 샘플링으로 데이터를 추출하여 시간 단축\n",
    "\n",
    "def stochastic_gradient_descent_steps(X,y,batch_size=10,iters=1000):\n",
    "    w0 = np.zeros((1,1))\n",
    "    w1= np.zeros((1,1))\n",
    "    prev_cost=100000\n",
    "    iter_index=0\n",
    "    \n",
    "    \n",
    "    for ind in range(iters):\n",
    "        np.random.seed(ind)\n",
    "        # 전체 X,y 데이터에서 랜덤하게 batch_size만큼 데이터 추출하여 sample_X,sampele_y로 저장\n",
    "        stochastic_random_index=np.random.permutation(X.shape[0])\n",
    "        sample_X = X[stochastic_random_index[0:batch_size]]\n",
    "        sample_y =y[stochastic_random_index[0:batch_size]]\n",
    "        #랜덤하게 batch_size만큼 추출된 데이터 기반으로 w1_update, w0_update 계산후 업데이트\n",
    "        w1_update, w0_update= get_weight_updates(w1,w0,sample_X,sample_y,learning_rate=0.01)\n",
    "        w1= w1- w1_update\n",
    "        w0 = w0- w0_update\n",
    "        \n",
    "    return w1,w0 "
   ]
  },
  {
   "cell_type": "code",
   "execution_count": 7,
   "metadata": {},
   "outputs": [
    {
     "data": {
      "text/plain": [
       "array([66, 71, 54, 88, 82, 12, 36, 46, 14, 67, 10,  3, 62, 29, 97, 69, 70,\n",
       "       93, 31, 73, 60, 96, 28, 27, 21, 19, 33, 78, 32, 94,  1, 41, 40, 76,\n",
       "       37, 87, 24, 23, 50,  2, 47, 20, 77, 17, 56, 64, 68, 25, 15, 22, 16,\n",
       "       98, 63, 92, 86, 38,  6, 57, 95, 44,  9, 42, 81, 99, 35, 84, 59, 48,\n",
       "       75, 65, 85, 90, 55, 43, 58, 89, 30, 80, 34, 18, 51, 49, 52, 74, 26,\n",
       "       45, 39,  4, 11, 53, 91, 79,  8,  0,  5, 13, 61, 72,  7, 83])"
      ]
     },
     "execution_count": 7,
     "metadata": {},
     "output_type": "execute_result"
    }
   ],
   "source": [
    "np.random.permutation(X.shape[0])"
   ]
  },
  {
   "cell_type": "code",
   "execution_count": 8,
   "metadata": {},
   "outputs": [
    {
     "name": "stdout",
     "output_type": "stream",
     "text": [
      "w1: 4.028 w0: 6.156\n",
      "Stochastic Gradient Descent Total Cost:0.9937\n"
     ]
    }
   ],
   "source": [
    "w1,w0= stochastic_gradient_descent_steps(X,y,iters=1000)\n",
    "print(\"w1:\", round(w1[0,0],3),\"w0:\",round(w0[0,0],3))\n",
    "y_pred=w1[0,0]*X + w0\n",
    "print('Stochastic Gradient Descent Total Cost:{0:.4f}'.format(get_cost(y,y_pred)))"
   ]
  },
  {
   "cell_type": "markdown",
   "metadata": {},
   "source": [
    "# 다중 공선성\n",
    "* 상관관계가 강한 피쳐들이 있다\n",
    "* 있는지 없는지 파악하기 위해서 탐색적 분석필요(시각화)\n",
    "##### 중요한 피처만 남기고 제거하거나 규제를 적용"
   ]
  },
  {
   "cell_type": "code",
   "execution_count": 12,
   "metadata": {},
   "outputs": [],
   "source": [
    "import matplotlib.pyplot as plt\n",
    "from sklearn import linear_model\n",
    "from sklearn.linear_model import LinearRegression"
   ]
  },
  {
   "cell_type": "code",
   "execution_count": 22,
   "metadata": {},
   "outputs": [
    {
     "name": "stdout",
     "output_type": "stream",
     "text": [
      "[96.01738241]\n"
     ]
    }
   ],
   "source": [
    "reg= linear_model.LinearRegression()\n",
    "\n",
    "X=[[174],[152],[138],[128],[186]] #세로로 쭉이어진 배열\n",
    "y=[71,55,46,38,88]\n",
    "\n",
    "reg.fit(X,y)\n",
    "\n",
    "print(reg.predict([[200]]))"
   ]
  },
  {
   "cell_type": "code",
   "execution_count": 15,
   "metadata": {},
   "outputs": [
    {
     "data": {
      "image/png": "[encoded data removed]",
      "text/plain": [
       "<Figure size 432x288 with 1 Axes>"
      ]
     },
     "metadata": {
      "needs_background": "light"
     },
     "output_type": "display_data"
    }
   ],
   "source": [
    "# 학습데이터와 y값을 산포도로 그린다.\n",
    "plt.scatter(X,y,color=\"red\")\n",
    "\n",
    "# 학습데이터와 y값을 산포도로 그린다\n",
    "y_pred =reg.predict(X)\n",
    "\n",
    "#학습데이터와 예측값으로 선그래프로 그린다.\n",
    "#계산된 기울기와 y절편을 가지는 직선이 그려진다\n",
    "\n",
    "plt.plot(X,y_pred,color='blue',linewidth=3)\n",
    "plt.show()"
   ]
  },
  {
   "cell_type": "code",
   "execution_count": null,
   "metadata": {},
   "outputs": [],
   "source": []
  }
 ],
 "metadata": {
  "interpreter": {
   "hash": "f4ba335b1acc55db6b97d63129af6fbe6175843e0be64b2659003ca573354abf"
  },
  "kernelspec": {
   "display_name": "Python 3.10.1 64-bit",
   "language": "python",
   "name": "python3"
  },
  "language_info": {
   "codemirror_mode": {
    "name": "ipython",
    "version": 3
   },
   "file_extension": ".py",
   "mimetype": "text/x-python",
   "name": "python",
   "nbconvert_exporter": "python",
   "pygments_lexer": "ipython3",
   "version": "3.10.1"
  },
  "orig_nbformat": 4
 },
 "nbformat": 4,
 "nbformat_minor": 2
}
