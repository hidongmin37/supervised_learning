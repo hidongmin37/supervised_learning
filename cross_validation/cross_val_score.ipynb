{
 "cells": [
  {
   "cell_type": "markdown",
   "metadata": {},
   "source": [
    "##### sklearn.model_selection.cross_val_score\n",
    "##### (estimator, X, y=None, *, groups=None, scoring=None, cv=None, n_jobs=None, verbose=0, fit_params=None, pre_dispatch='2*n_jobs', error_score=nan)\n",
    "##### fit_params는 어떠한 값이 저장이 되어버리게 함.\n",
    "##### return값으로 다차원배열로 줌"
   ]
  },
  {
   "cell_type": "code",
   "execution_count": 5,
   "metadata": {},
   "outputs": [],
   "source": [
    "from sklearn.tree import DecisionTreeClassifier\n",
    "from sklearn.model_selection import cross_val_score\n",
    "from sklearn.datasets import load_iris\n",
    "import numpy as np"
   ]
  },
  {
   "cell_type": "code",
   "execution_count": 6,
   "metadata": {},
   "outputs": [
    {
     "name": "stdout",
     "output_type": "stream",
     "text": [
      "교차 검증별 정확도: [0.98 0.94 0.98]\n",
      "평균 검증 정확도 0.9667\n"
     ]
    }
   ],
   "source": [
    "iris_data =load_iris() #아이리스 데이터 불러오기\n",
    "dt_clf =DecisionTreeClassifier(random_state=156) #DecisionTreeClassfier하고 random_state는 시드값임 분류해주는데 저장해주는 곳\n",
    "\n",
    "data=iris_data.data #데이터 값 저장 \n",
    "label =iris_data.target #레이블 값 저장 0,1,2\n",
    "\n",
    "#성능 지표는 정확도, 교차검증세트는 3개\n",
    "\n",
    "scores =cross_val_score(dt_clf,data,label,scoring='accuracy',cv=3)  #cv=3은 교차검증세트 개수를 의미\n",
    "                                                                    #케이폴드 for문 하는 것을 덜어줌\n",
    "\n",
    "\n",
    "\n",
    "print('교차 검증별 정확도:',np.round(scores,4))\n",
    "\n",
    "print('평균 검증 정확도',np.round(np.mean(scores),4))\n",
    "\n",
    "#cv는 여기서 k폴드의 k를 의미"
   ]
  },
  {
   "cell_type": "code",
   "execution_count": null,
   "metadata": {},
   "outputs": [],
   "source": []
  }
 ],
 "metadata": {
  "interpreter": {
   "hash": "f4ba335b1acc55db6b97d63129af6fbe6175843e0be64b2659003ca573354abf"
  },
  "kernelspec": {
   "display_name": "Python 3.10.1 64-bit",
   "language": "python",
   "name": "python3"
  },
  "language_info": {
   "codemirror_mode": {
    "name": "ipython",
    "version": 3
   },
   "file_extension": ".py",
   "mimetype": "text/x-python",
   "name": "python",
   "nbconvert_exporter": "python",
   "pygments_lexer": "ipython3",
   "version": "3.10.1"
  },
  "orig_nbformat": 4
 },
 "nbformat": 4,
 "nbformat_minor": 2
}
