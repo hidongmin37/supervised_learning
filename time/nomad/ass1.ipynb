{
 "cells": [
  {
   "cell_type": "code",
   "execution_count": 11,
   "metadata": {},
   "outputs": [],
   "source": [
    "list=['Mon','Tue','Wed','Thu','Fri','Sat','Sun','Sat']\n",
    "days_number=['first','second','third','fourth','fifth','sixth','seventh','eighth','nineth']\n",
    "def is_on_list(a):\n",
    "    print(\"Is \"+str(a) +\" on 'days' list?\")\n",
    "    if a in list: print('True') \n",
    "    else: print('No')\n",
    "    print(\"Is \"+ days_number[list.index(a)]+\" item on 'days' list?:\"+ str(a))\n",
    "    \n",
    "    \n",
    "def get_x(a):\n",
    "    print(\"Is \"+ days_number[list.index(a)]+\" item on 'days' list?:\"+ str(a))\n",
    "def add_x(a):\n",
    "    list.append(a)\n",
    "    print(list)\n",
    "def remove_x(a):\n",
    "    list.remove(a)\n",
    "    print(list)\n",
    "\n",
    "    "
   ]
  },
  {
   "cell_type": "code",
   "execution_count": null,
   "metadata": {},
   "outputs": [],
   "source": []
  }
 ],
 "metadata": {
  "interpreter": {
   "hash": "f4ba335b1acc55db6b97d63129af6fbe6175843e0be64b2659003ca573354abf"
  },
  "kernelspec": {
   "display_name": "Python 3.10.1 64-bit",
   "language": "python",
   "name": "python3"
  },
  "language_info": {
   "codemirror_mode": {
    "name": "ipython",
    "version": 3
   },
   "file_extension": ".py",
   "mimetype": "text/x-python",
   "name": "python",
   "nbconvert_exporter": "python",
   "pygments_lexer": "ipython3",
   "version": "3.10.1"
  },
  "orig_nbformat": 4
 },
 "nbformat": 4,
 "nbformat_minor": 2
}
